{
 "cells": [
  {
   "cell_type": "code",
   "execution_count": null,
   "metadata": {},
   "outputs": [],
   "source": [
    "import pandas as pd\n",
    "wine_data= pd.read_csv('winemag-data-130k-v2.csv')\n",
    "w_data= wine_data [['country', 'points', 'price', 'variety', 'province']]\n",
    "w_data=w_data.dropna()\n",
    "w_data=w_data.drop_duplicates(keep= 'first')\n",
    "#w_data.set_index('country')\n",
    "w_data"
   ]
  },
  {
   "cell_type": "code",
   "execution_count": null,
   "metadata": {},
   "outputs": [],
   "source": [
    "US_data= w_data[w_data['country']=='US']"
   ]
  },
  {
   "cell_type": "code",
   "execution_count": null,
   "metadata": {},
   "outputs": [],
   "source": [
    "#we are tryying to see the names of the states in the US mentioned in the data\n",
    "pd.unique(US_data['province'])"
   ]
  },
  {
   "cell_type": "code",
   "execution_count": null,
   "metadata": {},
   "outputs": [],
   "source": [
    "#calculating the distances from each state to California; and we will try to see\n",
    "#if the price of wine in the other states is related to the distance from California\n",
    "#because California is the center of agriculture in the US and the Grapes are raised there \n",
    "distances_from_california= ['Oregon is 668','Michigan is 2405', 'California is 0', 'Virginia is 35.8', \n",
    "                            'Washington is 955', 'New York is 2915', 'Idaho is 910', 'Texas is 1407',\n",
    "                            'Pennsylvania is 2734', 'New Jersey is 2887', 'Missouri is 1884', 'New Mexico is 991',\n",
    "                            'Nevada is 535', 'Colorado is 1142', 'Arizona is 737', 'Massachusetts is 3096',\n",
    "                            'Ohio is 2405', 'Illinois is 2084', 'Washington-Oregon is 791', 'North Carolina is 2649',\n",
    "                            'Iowa is 1850', 'Vermont is 3081', 'Kentucky is 22', 'Connecticut is 2990',\n",
    "                            'Rhode Island is 3080', 'Hawaii is 2467']\n",
    "#note that: this step was done because i needed an extra column with numerical data in order to have a surface plot;\n",
    "# and i thought that it will be meaningful if i created this column with the distances mentioned above\n",
    "\n",
    "#the distances from each state to california was collected from Google (not dummy data...those are true distances)"
   ]
  },
  {
   "cell_type": "code",
   "execution_count": null,
   "metadata": {},
   "outputs": [],
   "source": [
    "#Here we are creating a new column with the distances from california in miles\n",
    "US_data.loc[(US_data['province'] == 'Oregon') , 'Distance_in_Miles'] = 668\n",
    "US_data.loc[(US_data['province'] == 'Michigan') , 'Distance_in_Miles'] = 2405\n",
    "US_data.loc[(US_data['province'] == 'California') , 'Distance_in_Miles'] = 0\n",
    "US_data.loc[(US_data['province'] == 'Virginia') , 'Distance_in_Miles'] = 35.8\n",
    "US_data.loc[(US_data['province'] == 'Washington') , 'Distance_in_Miles'] = 955\n",
    "US_data.loc[(US_data['province'] == 'New York') , 'Distance_in_Miles'] = 2915\n",
    "US_data.loc[(US_data['province'] == 'Idaho') , 'Distance_in_Miles'] = 910\n",
    "US_data.loc[(US_data['province'] == 'Texas') , 'Distance_in_Miles'] = 1407\n",
    "US_data.loc[(US_data['province'] == 'Pennsylvania') , 'Distance_in_Miles'] = 2734\n",
    "US_data.loc[(US_data['province'] == 'New Jersey') , 'Distance_in_Miles'] = 2887\n",
    "US_data.loc[(US_data['province'] == 'Missouri') , 'Distance_in_Miles'] = 1884\n",
    "US_data.loc[(US_data['province'] == 'New Mexico') , 'Distance_in_Miles'] = 991\n",
    "US_data.loc[(US_data['province'] == 'Nevada') , 'Distance_in_Miles'] = 535\n",
    "US_data.loc[(US_data['province'] == 'Colorado') , 'Distance_in_Miles'] = 1142\n",
    "US_data.loc[(US_data['province'] == 'Arizona') , 'Distance_in_Miles'] = 737\n",
    "US_data.loc[(US_data['province'] == 'Massachusetts') , 'Distance_in_Miles'] = 3096\n",
    "US_data.loc[(US_data['province'] == 'Ohio') , 'Distance_in_Miles'] = 2405\n",
    "US_data.loc[(US_data['province'] == 'Illinois') , 'Distance_in_Miles'] = 2084\n",
    "US_data.loc[(US_data['province'] == 'Washington-Oregon') , 'Distance_in_Miles'] = 791\n",
    "US_data.loc[(US_data['province'] == 'North Carolina') , 'Distance_in_Miles'] = 2649\n",
    "US_data.loc[(US_data['province'] == 'Iowa') , 'Distance_in_Miles'] = 1850\n",
    "US_data.loc[(US_data['province'] == 'Vermont') , 'Distance_in_Miles'] = 3081\n",
    "US_data.loc[(US_data['province'] == 'Kentucky') , 'Distance_in_Miles'] = 22\n",
    "US_data.loc[(US_data['province'] == 'Connecticut') , 'Distance_in_Miles'] = 2990\n",
    "US_data.loc[(US_data['province'] == 'Rhode Island') , 'Distance_in_Miles'] = 3080\n",
    "US_data.loc[(US_data['province'] == 'Hawaii') , 'Distance_in_Miles'] = 2467\n",
    "US_data.loc[(US_data['province'] == 'America') , 'Distance_in_Miles'] = 100\n",
    "US_data"
   ]
  },
  {
   "cell_type": "code",
   "execution_count": null,
   "metadata": {},
   "outputs": [],
   "source": [
    "#This will display the mean value of points and prices of wine (neglecting the type of wine) for each state; \n",
    "#and it will also display the Distance in miles from each state to California (the center of the industry of wine)\n",
    "province_US_grouped_data= US_data.groupby('province').mean()\n",
    "province_US_grouped_data=province_US_grouped_data.reset_index()\n",
    "province_US_grouped_data"
   ]
  },
  {
   "cell_type": "code",
   "execution_count": null,
   "metadata": {
    "scrolled": true
   },
   "outputs": [],
   "source": [
    "from plotly.offline import init_notebook_mode,iplot\n",
    "init_notebook_mode(connected=True)"
   ]
  },
  {
   "cell_type": "code",
   "execution_count": null,
   "metadata": {},
   "outputs": [],
   "source": [
    "import plotly\n",
    "import plotly.graph_objects as go\n",
    "province_US_grouped_data.drop('province', axis='columns', inplace=True)"
   ]
  },
  {
   "cell_type": "code",
   "execution_count": null,
   "metadata": {},
   "outputs": [],
   "source": [
    "x=province_US_grouped_data['Distance_in_Miles']\n",
    "y=province_US_grouped_data['price']\n",
    "z=province_US_grouped_data\n",
    "fig = go.Figure(data=[go.Surface(x=x,y=y,z=z)]) \n",
    "fig.update_traces(contours_z=dict( \n",
    "    show=True, usecolormap=True, \n",
    "    highlightcolor=\"limegreen\", \n",
    "    project_z=True)\n",
    "                 )  \n",
    "fig.update_layout(title= 'The relation between the Distance From California, the price of wine, and the points earned',\n",
    "                  scene = dict(\n",
    "                    xaxis_title='Distance_in_Miles',\n",
    "                    yaxis_title='price',\n",
    "                    zaxis_title='points'),\n",
    "                  \n",
    "                  margin=dict(\n",
    "                                l=50,\n",
    "                                r=50,\n",
    "                                b=50,\n",
    "                                t=50))\n",
    "fig.show() "
   ]
  },
  {
   "cell_type": "code",
   "execution_count": null,
   "metadata": {},
   "outputs": [],
   "source": [
    "#do the distance from California has an impact on the mean price of wine in a certain province in the US?\n",
    "x= province_US_grouped_data['Distance_in_Miles']\n",
    "y= province_US_grouped_data['price']\n",
    "trace1 = go.Scatter(\n",
    "    x=x,\n",
    "    y=y,\n",
    "    mode='markers')\n",
    "\n",
    "data = [trace1]\n",
    "layout = go.Layout(\n",
    "    margin=dict(\n",
    "    l=100,\n",
    "    r=100,\n",
    "    b=100,\n",
    "    t=100),\n",
    "    title= 'The relation between the Distance_in_Miles and the price',\n",
    "                    xaxis_title=\"Distance_in_Miles_from_california\",\n",
    "                    yaxis_title=\"price\"\n",
    ")\n",
    "fig = go.Figure(data=data, layout=layout) \n",
    "fig.show() \n",
    "#This Graph shows that there is no any relationn between the distance from Calfornia and the Price of wine"
   ]
  },
  {
   "cell_type": "code",
   "execution_count": null,
   "metadata": {},
   "outputs": [],
   "source": [
    "#finding out the most popular varities all over the world:\n",
    "country_count_per_variety= w_data[['country', 'variety']].groupby('variety').nunique()\n",
    "sorted_country_count_per_variety= country_count_per_variety.sort_values( by= 'country',ascending=False).head(50)\n",
    "sorted_country_count_per_variety"
   ]
  },
  {
   "cell_type": "code",
   "execution_count": null,
   "metadata": {},
   "outputs": [],
   "source": [
    "#we will assume that a popular variety is a variety that is used in more than 21 countries \n",
    "#of the unique 42 countries in our data:\n",
    "popular_varieties= sorted_country_count_per_variety[sorted_country_count_per_variety['country'] >= 21]\n",
    "popular_varieties"
   ]
  },
  {
   "cell_type": "code",
   "execution_count": null,
   "metadata": {},
   "outputs": [],
   "source": [
    "#filtering the data on the poopular varieties only:\n",
    "w_data_filtered_on_pop_varieties= pd.merge(w_data,popular_varieties, on= 'variety' )\n",
    "w_data_filtered_on_pop_varieties.columns= ['country', 'points', 'price','variety','province', 'country_count_per_variety']\n",
    "w_data_filtered_on_pop_varieties=w_data_filtered_on_pop_varieties[['country', 'points', 'price','variety','province']]\n",
    "w_data_filtered_on_pop_varieties"
   ]
  },
  {
   "cell_type": "code",
   "execution_count": null,
   "metadata": {},
   "outputs": [],
   "source": [
    "#finding the median points and price for each POPULAR variety in each country:\n",
    "variety_country_grouped_data= w_data_filtered_on_pop_varieties.groupby(['variety','country']).median()\n",
    "variety_country_grouped_data=variety_country_grouped_data.reset_index()\n",
    "variety_country_grouped_data\n",
    "#variety_country_grouped_data.describe()"
   ]
  },
  {
   "cell_type": "code",
   "execution_count": null,
   "metadata": {
    "scrolled": false
   },
   "outputs": [],
   "source": [
    "#do the points earned by a wine in a certain country increases with the price?\n",
    "#or in other words, do the expensive types of wine earn higher score of points? or not?\n",
    "x= variety_country_grouped_data['price']\n",
    "y=variety_country_grouped_data['points']\n",
    "trace1 = go.Scatter(\n",
    "    x=x,\n",
    "    y=y,\n",
    "    mode='markers')\n",
    "\n",
    "data = [trace1]\n",
    "layout = go.Layout(\n",
    "    margin=dict(\n",
    "    l=100,\n",
    "    r=100,\n",
    "    b=100,\n",
    "    t=100),\n",
    "    title= 'The relation between the points and the price',\n",
    "                    xaxis_title=\"price\",\n",
    "                    yaxis_title=\"points\"\n",
    ")\n",
    "fig = go.Figure(data=data, layout=layout) \n",
    "fig.show() \n",
    "#This graph shows that there is a positive correlation between the price of wine and the points of the wine\n",
    "#(of course after neglecting the outliers, and only loooking at the left side of the graph which has\n",
    "#an approximately an exponential form)"
   ]
  },
  {
   "cell_type": "code",
   "execution_count": null,
   "metadata": {},
   "outputs": [],
   "source": [
    "correlation_between_price_points= variety_country_grouped_data['price'].corr(variety_country_grouped_data['points'])\n",
    "print(correlation_between_price_points)\n",
    "#since the data can be considered large enough, we can say that this correlation is significant and that\n",
    "# an expensive wine earns higher points in general."
   ]
  },
  {
   "cell_type": "code",
   "execution_count": null,
   "metadata": {},
   "outputs": [],
   "source": [
    "#getting the median points and price for each country\n",
    "choro_data= w_data.groupby('country').median()\n",
    "choro_data=choro_data.reset_index()\n",
    "choro_data"
   ]
  },
  {
   "cell_type": "code",
   "execution_count": null,
   "metadata": {
    "scrolled": false
   },
   "outputs": [],
   "source": [
    "#Do some locations prefer expensive Wines?\n",
    "#what is the median price of wine in each country?\n",
    "fig = go.Figure(data=go.Choropleth(\n",
    "    locations=choro_data['country'],\n",
    "    locationmode = 'country names',\n",
    "    z = choro_data['price'].astype(float), # Data to be color-coded\n",
    "    colorscale = 'reds',\n",
    "    colorbar_title = \"med_wine_prices_per_location\"\n",
    "))\n",
    "\n",
    "fig.update_layout(\n",
    "    title_text = 'geographical_distribution_of_wine_prices'\n",
    ")\n",
    "\n",
    "fig.show()\n",
    "#this shows that in general, the wine in the united states, Canada, France, Germany and Italy is more expensive\n",
    "#than all other locations mentioned in our data."
   ]
  },
  {
   "cell_type": "code",
   "execution_count": null,
   "metadata": {},
   "outputs": [],
   "source": [
    "#does the score of points earned by a variety of wine depends on the location?\n",
    "#or a certain type of wine has a high or low points regardless the location?\n",
    "fig = go.Figure(data=go.Heatmap(\n",
    "                   z=variety_country_grouped_data['points'],\n",
    "                   x=variety_country_grouped_data['country'],\n",
    "                   y=variety_country_grouped_data['variety'] ,\n",
    "                   hoverongaps = False,\n",
    "                    colorbar_title = \"med_of_points\"))\n",
    "fig.update_layout(\n",
    "    title_text = 'The Median of Points Earned for Each Type Of Wine In Each Country'\n",
    ")\n",
    "fig.show()\n",
    "#This graph shows that the points gained by each type of wine strongly depends on the country;\n",
    "#for instance, the Chardonnay wine takes high score of points in England; However, it takes a weak score of points\n",
    "#in peru."
   ]
  },
  {
   "cell_type": "code",
   "execution_count": null,
   "metadata": {},
   "outputs": [],
   "source": [
    "#Extra Graph\n",
    "x=variety_country_grouped_data['variety']\n",
    "y=variety_country_grouped_data['price']\n",
    "z=variety_country_grouped_data['points']\n",
    "trace1 = go.Scatter3d(\n",
    "    x=x,\n",
    "    y=y,\n",
    "    z=z,\n",
    "    mode='markers',\n",
    "    marker=dict(\n",
    "    size=12,\n",
    "    color=z,\n",
    "    colorscale='Viridis'))\n",
    "\n",
    "data = [trace1]\n",
    "layout = go.Layout(\n",
    "    title= 'The relationship between the points and the price for each type of wine',\n",
    "    margin=dict(\n",
    "    l=50,\n",
    "    r=50,\n",
    "    b=50,\n",
    "    t=50),\n",
    "    scene = dict(\n",
    "                    xaxis_title='wine_name',\n",
    "                    yaxis_title='price',\n",
    "                    zaxis_title='points')\n",
    ")\n",
    "fig = go.Figure(data=data, layout=layout) \n",
    "#fig.add_annotation()\n",
    "fig.show() "
   ]
  },
  {
   "cell_type": "code",
   "execution_count": null,
   "metadata": {},
   "outputs": [],
   "source": [
    "#Extra Graph\n",
    "x=variety_country_grouped_data['country']\n",
    "y=variety_country_grouped_data['price']\n",
    "z=variety_country_grouped_data['points']\n",
    "trace1 = go.Scatter3d(\n",
    "    x=x,\n",
    "    y=y,\n",
    "    z=z,\n",
    "    mode='markers',\n",
    "    marker=dict(\n",
    "    size=12,\n",
    "    color=z,\n",
    "    colorscale='Viridis'))\n",
    "\n",
    "data = [trace1]\n",
    "layout = go.Layout(\n",
    "    title= 'The relationship between the points and the price of wine in general for each country',\n",
    "    margin=dict(\n",
    "    l=50,\n",
    "    r=50,\n",
    "    b=50,\n",
    "    t=50),\n",
    "    scene = dict(\n",
    "                    xaxis_title='country',\n",
    "                    yaxis_title='price',\n",
    "                    zaxis_title='points')\n",
    ")\n",
    "fig = go.Figure(data=data, layout=layout) \n",
    "fig.add_annotation()\n",
    "fig.show() "
   ]
  }
 ],
 "metadata": {
  "kernelspec": {
   "display_name": "DS_ITI",
   "language": "python",
   "name": "ds_iti"
  },
  "language_info": {
   "codemirror_mode": {
    "name": "ipython",
    "version": 3
   },
   "file_extension": ".py",
   "mimetype": "text/x-python",
   "name": "python",
   "nbconvert_exporter": "python",
   "pygments_lexer": "ipython3",
   "version": "3.6.12"
  }
 },
 "nbformat": 4,
 "nbformat_minor": 4
}
